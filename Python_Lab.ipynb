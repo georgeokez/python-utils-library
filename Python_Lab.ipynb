{
 "cells": [
  {
   "cell_type": "markdown",
   "metadata": {},
   "source": [
    "### 1. Printing Prime numbers between 100 and 200"
   ]
  },
  {
   "cell_type": "code",
   "execution_count": 31,
   "metadata": {},
   "outputs": [
    {
     "name": "stdout",
     "output_type": "stream",
     "text": [
      "101\n",
      "103\n",
      "107\n",
      "109\n",
      "113\n",
      "127\n",
      "131\n",
      "137\n",
      "139\n",
      "149\n",
      "151\n",
      "157\n",
      "163\n",
      "167\n",
      "173\n",
      "179\n",
      "181\n",
      "191\n",
      "193\n",
      "197\n",
      "199\n"
     ]
    }
   ],
   "source": [
    "for num in range(100,200):\n",
    "    if all(num%i !=0 for i in range(2,num)):\n",
    "        print(num)"
   ]
  },
  {
   "cell_type": "code",
   "execution_count": null,
   "metadata": {},
   "outputs": [],
   "source": []
  },
  {
   "cell_type": "markdown",
   "metadata": {},
   "source": [
    "### 2. Sort function to sort the elements in a list"
   ]
  },
  {
   "cell_type": "code",
   "execution_count": 28,
   "metadata": {},
   "outputs": [],
   "source": [
    "unsorted_list = [65,30,22,98,290,4,9,2,7,29,38,123,56,67]\n",
    "\n",
    "def sortList(List):\n",
    "    List.sort(reverse = True)"
   ]
  },
  {
   "cell_type": "code",
   "execution_count": 29,
   "metadata": {},
   "outputs": [
    {
     "name": "stdout",
     "output_type": "stream",
     "text": [
      "Unsorted List:\n",
      "[65, 30, 22, 98, 290, 4, 9, 2, 7, 29, 38, 123, 56, 67]\n"
     ]
    }
   ],
   "source": [
    "print(\"Unsorted List:\")\n",
    "print(unsorted_list)"
   ]
  },
  {
   "cell_type": "code",
   "execution_count": 30,
   "metadata": {},
   "outputs": [
    {
     "name": "stdout",
     "output_type": "stream",
     "text": [
      "Sorted List:\n",
      "[290, 123, 98, 67, 65, 56, 38, 30, 29, 22, 9, 7, 4, 2]\n"
     ]
    }
   ],
   "source": [
    "print(\"Sorted List:\")\n",
    "sortList(unsorted_list)\n",
    "print(unsorted_list)"
   ]
  },
  {
   "cell_type": "code",
   "execution_count": null,
   "metadata": {},
   "outputs": [],
   "source": []
  },
  {
   "cell_type": "markdown",
   "metadata": {},
   "source": [
    "### 3. Sorting function without using the sort in buit function."
   ]
  },
  {
   "cell_type": "code",
   "execution_count": 42,
   "metadata": {},
   "outputs": [],
   "source": [
    "def sort_list(unsortedList, reverse = False):\n",
    "    sorted_list = []\n",
    "    \n",
    "    if reverse:\n",
    "        while unsortedList:\n",
    "            max_value = unsortedList[0]\n",
    "            for i in unsortedList:\n",
    "                if i > max_value:\n",
    "                    max_value = i\n",
    "            sorted_list.append(max_value)\n",
    "            unsortedList.remove(max_value)\n",
    "\n",
    "        return sorted_list\n",
    "    else:\n",
    "        while unsortedList:\n",
    "            min_value = unsortedList[0]\n",
    "            for i in unsortedList:\n",
    "                if i < min_value:\n",
    "                    min_value = i\n",
    "            sorted_list.append(min_value)\n",
    "            unsortedList.remove(min_value)\n",
    "\n",
    "        return sorted_list"
   ]
  },
  {
   "cell_type": "code",
   "execution_count": 45,
   "metadata": {},
   "outputs": [
    {
     "name": "stdout",
     "output_type": "stream",
     "text": [
      "Sorted List:\n",
      "[290, 123, 98, 67, 65, 56, 38, 30, 29, 22, 9, 7, 4, 2]\n"
     ]
    }
   ],
   "source": [
    "unsorted_list = [65,30,22,98,290,4,9,2,7,29,38,123,56,67]\n",
    "print(\"Sorted List:\")\n",
    "print(sort_list(unsorted_list, reverse = True))"
   ]
  },
  {
   "cell_type": "code",
   "execution_count": null,
   "metadata": {},
   "outputs": [],
   "source": []
  },
  {
   "cell_type": "markdown",
   "metadata": {},
   "source": [
    "### 4. Python program to print Fibonacci Series"
   ]
  },
  {
   "cell_type": "code",
   "execution_count": 46,
   "metadata": {},
   "outputs": [],
   "source": [
    "def F(n):\n",
    "    if n == 0: return 0\n",
    "    elif n == 1: return 1\n",
    "    else: return F(n-1)+F(n-2)"
   ]
  },
  {
   "cell_type": "code",
   "execution_count": 49,
   "metadata": {},
   "outputs": [
    {
     "name": "stdout",
     "output_type": "stream",
     "text": [
      "0\n",
      "1\n",
      "1\n",
      "2\n",
      "3\n",
      "5\n",
      "8\n",
      "13\n",
      "21\n",
      "34\n",
      "55\n",
      "89\n"
     ]
    }
   ],
   "source": [
    "for i in range(0,12):\n",
    "    print(F(i))"
   ]
  },
  {
   "cell_type": "code",
   "execution_count": null,
   "metadata": {},
   "outputs": [],
   "source": []
  },
  {
   "cell_type": "markdown",
   "metadata": {},
   "source": [
    "### 5. Python function to print a list in reverse"
   ]
  },
  {
   "cell_type": "code",
   "execution_count": 59,
   "metadata": {},
   "outputs": [],
   "source": [
    "original_list = [65,30,22,98,290,4,9,2,7,29,38,123,56,67]"
   ]
  },
  {
   "cell_type": "code",
   "execution_count": 60,
   "metadata": {},
   "outputs": [],
   "source": [
    "def reverseList(normalList):\n",
    "    return normalList[::-1]"
   ]
  },
  {
   "cell_type": "code",
   "execution_count": 70,
   "metadata": {},
   "outputs": [
    {
     "name": "stdout",
     "output_type": "stream",
     "text": [
      "[65, 30, 22, 98, 290, 4, 9, 2, 7, 29, 38, 123, 56, 67]\n"
     ]
    }
   ],
   "source": [
    "original_list = reverseList(original_list)\n",
    "print(original_list)"
   ]
  },
  {
   "cell_type": "code",
   "execution_count": null,
   "metadata": {},
   "outputs": [],
   "source": []
  },
  {
   "cell_type": "markdown",
   "metadata": {},
   "source": [
    "### 6. Python function to check if a word is a palindrome"
   ]
  },
  {
   "cell_type": "code",
   "execution_count": 80,
   "metadata": {},
   "outputs": [],
   "source": [
    "def isPalindrome(word):\n",
    "    \n",
    "    # Split word into list of charaters\n",
    "    word_list = list(word)\n",
    "    \n",
    "    # Reverse character list\n",
    "    word_list = word_list[::-1]\n",
    "    \n",
    "    # join character list as new word\n",
    "    reverse_word = ''.join(word_list)\n",
    "    \n",
    "    # check if reversed word == original word\n",
    "    if (reverse_word == word): return True\n",
    "    \n",
    "    return False\n",
    "    "
   ]
  },
  {
   "cell_type": "code",
   "execution_count": 82,
   "metadata": {},
   "outputs": [
    {
     "name": "stdout",
     "output_type": "stream",
     "text": [
      "True\n"
     ]
    }
   ],
   "source": [
    "word = 'madam'\n",
    "print(isPalindrome(word))"
   ]
  },
  {
   "cell_type": "code",
   "execution_count": null,
   "metadata": {},
   "outputs": [],
   "source": []
  }
 ],
 "metadata": {
  "kernelspec": {
   "display_name": "Python 3",
   "language": "python",
   "name": "python3"
  },
  "language_info": {
   "codemirror_mode": {
    "name": "ipython",
    "version": 3
   },
   "file_extension": ".py",
   "mimetype": "text/x-python",
   "name": "python",
   "nbconvert_exporter": "python",
   "pygments_lexer": "ipython3",
   "version": "3.8.5"
  }
 },
 "nbformat": 4,
 "nbformat_minor": 4
}
